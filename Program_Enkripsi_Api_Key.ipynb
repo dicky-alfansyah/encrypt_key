{
 "cells": [
  {
   "cell_type": "code",
   "execution_count": 2,
   "metadata": {
    "collapsed": true,
    "ExecuteTime": {
     "end_time": "2023-06-02T07:05:23.460948100Z",
     "start_time": "2023-06-02T07:05:06.902395900Z"
    }
   },
   "outputs": [],
   "source": [
    "import json\n",
    "\n",
    "def encrypt_key(api_key, keyword):\n",
    "    \"\"\"\n",
    "    Fungsi untuk mengenkripsi kunci JSON API menggunakan Vigenère Cipher.\n",
    "\n",
    "    Args:\n",
    "        api_key (str): Kunci JSON API yang akan dienkripsi.\n",
    "        keyword (str): Kata kunci untuk enkripsi.\n",
    "\n",
    "    Returns:\n",
    "        str: Kunci JSON API yang terenkripsi.\n",
    "    \"\"\"\n",
    "\n",
    "    encrypted_key = \"\"\n",
    "    keyword_index = 0\n",
    "\n",
    "    for char in api_key:\n",
    "        if char.isalpha():\n",
    "            # Menghitung offset ASCII berdasarkan huruf besar atau kecil\n",
    "            ascii_offset = ord('A') if char.isupper() else ord('a')\n",
    "\n",
    "            # Mendapatkan karakter kunci untuk enkripsi berdasarkan indeks kata kunci\n",
    "            key_char = keyword[keyword_index % len(keyword)]\n",
    "\n",
    "            # Menghitung pergeseran berdasarkan huruf besar dari karakter kunci\n",
    "            key_offset = ord(key_char.upper()) - ord('A')\n",
    "\n",
    "            # Melakukan enkripsi dengan pergeseran sesuai karakter kunci\n",
    "            encrypted_char = chr((ord(char) - ascii_offset + key_offset) % 26 + ascii_offset)\n",
    "            encrypted_key += encrypted_char\n",
    "\n",
    "            # Mengupdate indeks kata kunci\n",
    "            keyword_index += 1\n",
    "        else:\n",
    "            encrypted_key += char\n",
    "\n",
    "    return encrypted_key\n",
    "\n",
    "# Meminta input kunci JSON API dan keyword enkripsi\n",
    "json_api_key = input(\"Masukkan kunci API: \")\n",
    "keyword = input(\"Masukkan keyword enkripsi: \")\n",
    "\n",
    "# Enkripsi kunci JSON API\n",
    "encrypted_api_key = encrypt_key(json_api_key, keyword)\n",
    "\n",
    "# Format baru untuk menyimpan kunci\n",
    "new_format = {\n",
    "    \"encrypted_key\": encrypted_api_key\n",
    "}\n",
    "\n",
    "# Menyimpan dalam format baru ke file JSON\n",
    "with open('encrypted_api_key.json', 'w') as json_file:\n",
    "    json.dump(new_format, json_file)"
   ]
  },
  {
   "cell_type": "code",
   "execution_count": 3,
   "outputs": [
    {
     "name": "stdout",
     "output_type": "stream",
     "text": [
      "Encrypted API Key: ce-pQe1uLptxu1ePxxPCiUCI3JploDTPTSAXunretQQ9dctHBsX\n"
     ]
    }
   ],
   "source": [
    "import json\n",
    "\n",
    "# Membaca file JSON\n",
    "with open('encrypted_api_key.json', 'r') as json_file:\n",
    "    data = json.load(json_file)\n",
    "\n",
    "# Mendapatkan kunci terenkripsi\n",
    "encrypted_api_key = data[\"encrypted_key\"]\n",
    "\n",
    "# Mencetak kunci terenkripsi\n",
    "print(\"Encrypted API Key:\", encrypted_api_key)"
   ],
   "metadata": {
    "collapsed": false,
    "ExecuteTime": {
     "end_time": "2023-06-02T07:05:25.369521900Z",
     "start_time": "2023-06-02T07:05:25.357523Z"
    }
   }
  },
  {
   "cell_type": "code",
   "execution_count": null,
   "outputs": [],
   "source": [],
   "metadata": {
    "collapsed": false
   }
  }
 ],
 "metadata": {
  "kernelspec": {
   "display_name": "Python 3",
   "language": "python",
   "name": "python3"
  },
  "language_info": {
   "codemirror_mode": {
    "name": "ipython",
    "version": 2
   },
   "file_extension": ".py",
   "mimetype": "text/x-python",
   "name": "python",
   "nbconvert_exporter": "python",
   "pygments_lexer": "ipython2",
   "version": "2.7.6"
  }
 },
 "nbformat": 4,
 "nbformat_minor": 0
}
